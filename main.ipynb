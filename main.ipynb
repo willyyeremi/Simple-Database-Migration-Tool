{
 "cells": [
  {
   "cell_type": "markdown",
   "metadata": {},
   "source": [
    "importing all necceseary library"
   ]
  },
  {
   "cell_type": "code",
   "execution_count": 1,
   "metadata": {},
   "outputs": [],
   "source": [
    "# default lib\n",
    "import datetime\n",
    "import os\n",
    "\n",
    "# open lib\n",
    "import pandas\n",
    "import sqlalchemy\n",
    "\n",
    "# custom lib\n",
    "import module\n",
    "import connection_credential"
   ]
  },
  {
   "cell_type": "code",
   "execution_count": null,
   "metadata": {},
   "outputs": [],
   "source": [
    "current_timestamp = datetime.datetime.strftime(datetime.datetime.now(), '%Y%m%d_%H%M%S')"
   ]
  },
  {
   "cell_type": "markdown",
   "metadata": {},
   "source": [
    "Below is cell for credential. load all your credential from *connecction_credential.py* here, except the schema name that manually defined here."
   ]
  },
  {
   "cell_type": "code",
   "execution_count": null,
   "metadata": {},
   "outputs": [],
   "source": [
    "product = connection_credential.source.product\n",
    "host = connection_credential.source.host\n",
    "port = connection_credential.source.port\n",
    "user = connection_credential.source.user\n",
    "password = connection_credential.source.password\n",
    "database = connection_credential.source.database\n",
    "local_environment = connection_credential.source.local_environment\n",
    "schema = 'CRESTELBILLINGPRD623'"
   ]
  },
  {
   "cell_type": "markdown",
   "metadata": {},
   "source": []
  }
 ],
 "metadata": {
  "kernelspec": {
   "display_name": ".venv",
   "language": "python",
   "name": "python3"
  },
  "language_info": {
   "codemirror_mode": {
    "name": "ipython",
    "version": 3
   },
   "file_extension": ".py",
   "mimetype": "text/x-python",
   "name": "python",
   "nbconvert_exporter": "python",
   "pygments_lexer": "ipython3",
   "version": "3.10.11"
  }
 },
 "nbformat": 4,
 "nbformat_minor": 2
}
